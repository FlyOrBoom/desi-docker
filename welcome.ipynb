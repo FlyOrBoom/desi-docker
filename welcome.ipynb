{
 "cells": [
  {
   "cell_type": "markdown",
   "id": "a28fd373-1235-44e5-8a9d-474db1964786",
   "metadata": {},
   "source": [
    "# Welcome!\n",
    "\n",
    "* This is the home directory `~` (`$HOME`) of this Docker container.\n",
    "* DESI data releases are mounted at `~/desiroot` (`$DESI_ROOT`). \n",
    "* Example code for processing the data can be found at `~/tutorials`.\n",
    "* For convenience, files inside `~/synced` (`$SYNCED`) are synced to the directory in which you ran this container.\n",
    "* Additionally, all files in this container are saved in a volume that you can access with `docker volume`.\n"
   ]
  },
  {
   "cell_type": "markdown",
   "id": "ecfb31cf-d6f4-4993-979a-cb513e8c0394",
   "metadata": {},
   "source": [
    "## Tutorials\n",
    "\n",
    "General tutorials for processing DESI data can be found at `~/tutorials/getting_started`.\n",
    "Below are some modifications you likely have to do to make those tutorials work in this Docker container."
   ]
  },
  {
   "cell_type": "markdown",
   "id": "9e27f7f2-3714-43fb-bfc1-e956bf670017",
   "metadata": {},
   "source": [
    "### Reading DESI data\n",
    "\n",
    "`$DESI_ROOT` is the [environment variable](https://en.wikipedia.org/wiki/Environment_variable)\n",
    "holding the path to the latest public DESI data release. \n",
    "Some code in the tutorials directly refer to the path in the NERSC servers instead.\n",
    "You will have to replace those instances of `/global/cfs/cdirs/desi/public/<release>` with `os.environ[\"DESI_ROOT\"]`."
   ]
  },
  {
   "cell_type": "code",
   "execution_count": 19,
   "id": "f2c4d70c-b96d-43c0-a4e4-038c121fd5bb",
   "metadata": {},
   "outputs": [
    {
     "name": "stdout",
     "output_type": "stream",
     "text": [
      "Filename: /home/1000/desiroot/spectro/data/20200201/00045677/gfa-00045677.fits.fz\n",
      "No.    Name      Ver    Type      Cards   Dimensions   Format\n",
      "  0  PRIMARY       1 PrimaryHDU       6   ()      \n",
      "  1  GFA           1 CompImageHDU    220   (10,)   int16   \n",
      "  2  GUIDE8        1 CompImageHDU     66   (2248, 1032)   int16   \n",
      "  3  GUIDE5        1 CompImageHDU     66   (2248, 1032)   int16   \n",
      "  4  GUIDE3        1 CompImageHDU     66   (2248, 1032)   int16   \n",
      "  5  GUIDE0        1 CompImageHDU     66   (2248, 1032)   int16   \n",
      "  6  FOCUS1        1 CompImageHDU     66   (2248, 1032)   int16   \n",
      "  7  FOCUS9        1 CompImageHDU     66   (2248, 1032)   int16   \n",
      "  8  GUIDE7        1 CompImageHDU     66   (2248, 1032)   int16   \n",
      "  9  FOCUS6        1 CompImageHDU     66   (2248, 1032)   int16   \n",
      " 10  FOCUS4        1 CompImageHDU     66   (2248, 1032)   int16   \n",
      " 11  GUIDE2        1 CompImageHDU     66   (2248, 1032)   int16   \n"
     ]
    }
   ],
   "source": [
    "import os\n",
    "from astropy.io import fits\n",
    "\n",
    "root = os.environ[\"DESI_ROOT\"]\n",
    "filename = os.path.join( root, \"spectro/data/20200201/00045677/gfa-00045677.fits.fz\" )\n",
    "hdul = fits.open(filename)\n",
    "hdul.info()"
   ]
  }
 ],
 "metadata": {
  "kernelspec": {
   "display_name": "Python 3 (ipykernel)",
   "language": "python",
   "name": "python3"
  },
  "language_info": {
   "codemirror_mode": {
    "name": "ipython",
    "version": 3
   },
   "file_extension": ".py",
   "mimetype": "text/x-python",
   "name": "python",
   "nbconvert_exporter": "python",
   "pygments_lexer": "ipython3",
   "version": "3.11.8"
  }
 },
 "nbformat": 4,
 "nbformat_minor": 5
}
